{
 "cells": [
  {
   "cell_type": "markdown",
   "id": "78ccf3f6-c9ad-4299-abdf-6af2914f810c",
   "metadata": {},
   "source": [
    "# Project - Financial Analytics "
   ]
  },
  {
   "cell_type": "code",
   "execution_count": 1,
   "id": "5e906185-fa58-4e3f-92b6-cd9f11fab32f",
   "metadata": {},
   "outputs": [
    {
     "data": {
      "text/html": [
       "<div>\n",
       "<style scoped>\n",
       "    .dataframe tbody tr th:only-of-type {\n",
       "        vertical-align: middle;\n",
       "    }\n",
       "\n",
       "    .dataframe tbody tr th {\n",
       "        vertical-align: top;\n",
       "    }\n",
       "\n",
       "    .dataframe thead th {\n",
       "        text-align: right;\n",
       "    }\n",
       "</style>\n",
       "<table border=\"1\" class=\"dataframe\">\n",
       "  <thead>\n",
       "    <tr style=\"text-align: right;\">\n",
       "      <th></th>\n",
       "      <th>S.No.</th>\n",
       "      <th>Name</th>\n",
       "      <th>Mar Cap - Crore</th>\n",
       "      <th>Sales Qtr - Crore</th>\n",
       "      <th>Unnamed: 4</th>\n",
       "    </tr>\n",
       "  </thead>\n",
       "  <tbody>\n",
       "    <tr>\n",
       "      <th>0</th>\n",
       "      <td>1</td>\n",
       "      <td>Reliance Inds.</td>\n",
       "      <td>583436.72</td>\n",
       "      <td>99810.00</td>\n",
       "      <td>NaN</td>\n",
       "    </tr>\n",
       "    <tr>\n",
       "      <th>1</th>\n",
       "      <td>2</td>\n",
       "      <td>TCS</td>\n",
       "      <td>563709.84</td>\n",
       "      <td>30904.00</td>\n",
       "      <td>NaN</td>\n",
       "    </tr>\n",
       "    <tr>\n",
       "      <th>2</th>\n",
       "      <td>3</td>\n",
       "      <td>HDFC Bank</td>\n",
       "      <td>482953.59</td>\n",
       "      <td>20581.27</td>\n",
       "      <td>NaN</td>\n",
       "    </tr>\n",
       "    <tr>\n",
       "      <th>3</th>\n",
       "      <td>4</td>\n",
       "      <td>ITC</td>\n",
       "      <td>320985.27</td>\n",
       "      <td>9772.02</td>\n",
       "      <td>NaN</td>\n",
       "    </tr>\n",
       "    <tr>\n",
       "      <th>4</th>\n",
       "      <td>5</td>\n",
       "      <td>H D F C</td>\n",
       "      <td>289497.37</td>\n",
       "      <td>16840.51</td>\n",
       "      <td>NaN</td>\n",
       "    </tr>\n",
       "    <tr>\n",
       "      <th>...</th>\n",
       "      <td>...</td>\n",
       "      <td>...</td>\n",
       "      <td>...</td>\n",
       "      <td>...</td>\n",
       "      <td>...</td>\n",
       "    </tr>\n",
       "    <tr>\n",
       "      <th>483</th>\n",
       "      <td>496</td>\n",
       "      <td>Lak. Vilas Bank</td>\n",
       "      <td>3029.57</td>\n",
       "      <td>790.17</td>\n",
       "      <td>NaN</td>\n",
       "    </tr>\n",
       "    <tr>\n",
       "      <th>484</th>\n",
       "      <td>497</td>\n",
       "      <td>NOCIL</td>\n",
       "      <td>3026.26</td>\n",
       "      <td>249.27</td>\n",
       "      <td>NaN</td>\n",
       "    </tr>\n",
       "    <tr>\n",
       "      <th>485</th>\n",
       "      <td>498</td>\n",
       "      <td>Orient Cement</td>\n",
       "      <td>3024.32</td>\n",
       "      <td>511.53</td>\n",
       "      <td>NaN</td>\n",
       "    </tr>\n",
       "    <tr>\n",
       "      <th>486</th>\n",
       "      <td>499</td>\n",
       "      <td>Natl.Fertilizer</td>\n",
       "      <td>3017.07</td>\n",
       "      <td>2840.75</td>\n",
       "      <td>NaN</td>\n",
       "    </tr>\n",
       "    <tr>\n",
       "      <th>487</th>\n",
       "      <td>500</td>\n",
       "      <td>L T Foods</td>\n",
       "      <td>NaN</td>\n",
       "      <td>NaN</td>\n",
       "      <td>NaN</td>\n",
       "    </tr>\n",
       "  </tbody>\n",
       "</table>\n",
       "<p>488 rows × 5 columns</p>\n",
       "</div>"
      ],
      "text/plain": [
       "     S.No.             Name  Mar Cap - Crore  Sales Qtr - Crore  Unnamed: 4\n",
       "0        1   Reliance Inds.        583436.72           99810.00         NaN\n",
       "1        2              TCS        563709.84           30904.00         NaN\n",
       "2        3        HDFC Bank        482953.59           20581.27         NaN\n",
       "3        4              ITC        320985.27            9772.02         NaN\n",
       "4        5          H D F C        289497.37           16840.51         NaN\n",
       "..     ...              ...              ...                ...         ...\n",
       "483    496  Lak. Vilas Bank          3029.57             790.17         NaN\n",
       "484    497            NOCIL          3026.26             249.27         NaN\n",
       "485    498    Orient Cement          3024.32             511.53         NaN\n",
       "486    499  Natl.Fertilizer          3017.07            2840.75         NaN\n",
       "487    500        L T Foods              NaN                NaN         NaN\n",
       "\n",
       "[488 rows x 5 columns]"
      ]
     },
     "execution_count": 1,
     "metadata": {},
     "output_type": "execute_result"
    }
   ],
   "source": [
    "import pandas as pd \n",
    "df = pd.read_csv(\"C:/Users/DELL/Downloads/Financial Analytics data (1).csv\")\n",
    "df"
   ]
  },
  {
   "cell_type": "code",
   "execution_count": 2,
   "id": "ec11b838-e80d-4493-a25a-ea2a644b0084",
   "metadata": {},
   "outputs": [
    {
     "data": {
      "text/plain": [
       "S.No.                  0\n",
       "Name                   0\n",
       "Mar Cap - Crore        9\n",
       "Sales Qtr - Crore    123\n",
       "Unnamed: 4           394\n",
       "dtype: int64"
      ]
     },
     "execution_count": 2,
     "metadata": {},
     "output_type": "execute_result"
    }
   ],
   "source": [
    "df.isnull().sum()"
   ]
  },
  {
   "cell_type": "code",
   "execution_count": 3,
   "id": "ebc762fa-9ba7-4c95-bec5-cdc6ee856956",
   "metadata": {},
   "outputs": [
    {
     "data": {
      "text/html": [
       "<div>\n",
       "<style scoped>\n",
       "    .dataframe tbody tr th:only-of-type {\n",
       "        vertical-align: middle;\n",
       "    }\n",
       "\n",
       "    .dataframe tbody tr th {\n",
       "        vertical-align: top;\n",
       "    }\n",
       "\n",
       "    .dataframe thead th {\n",
       "        text-align: right;\n",
       "    }\n",
       "</style>\n",
       "<table border=\"1\" class=\"dataframe\">\n",
       "  <thead>\n",
       "    <tr style=\"text-align: right;\">\n",
       "      <th></th>\n",
       "      <th>S.No.</th>\n",
       "      <th>Mar Cap - Crore</th>\n",
       "      <th>Sales Qtr - Crore</th>\n",
       "      <th>Unnamed: 4</th>\n",
       "    </tr>\n",
       "  </thead>\n",
       "  <tbody>\n",
       "    <tr>\n",
       "      <th>count</th>\n",
       "      <td>488.000000</td>\n",
       "      <td>479.000000</td>\n",
       "      <td>365.000000</td>\n",
       "      <td>94.000000</td>\n",
       "    </tr>\n",
       "    <tr>\n",
       "      <th>mean</th>\n",
       "      <td>251.508197</td>\n",
       "      <td>28043.857119</td>\n",
       "      <td>4395.976849</td>\n",
       "      <td>1523.870106</td>\n",
       "    </tr>\n",
       "    <tr>\n",
       "      <th>std</th>\n",
       "      <td>145.884078</td>\n",
       "      <td>59464.615831</td>\n",
       "      <td>11092.206185</td>\n",
       "      <td>1800.008836</td>\n",
       "    </tr>\n",
       "    <tr>\n",
       "      <th>min</th>\n",
       "      <td>1.000000</td>\n",
       "      <td>3017.070000</td>\n",
       "      <td>47.240000</td>\n",
       "      <td>0.000000</td>\n",
       "    </tr>\n",
       "    <tr>\n",
       "      <th>25%</th>\n",
       "      <td>122.750000</td>\n",
       "      <td>4843.575000</td>\n",
       "      <td>593.740000</td>\n",
       "      <td>407.167500</td>\n",
       "    </tr>\n",
       "    <tr>\n",
       "      <th>50%</th>\n",
       "      <td>252.500000</td>\n",
       "      <td>9885.050000</td>\n",
       "      <td>1278.300000</td>\n",
       "      <td>702.325000</td>\n",
       "    </tr>\n",
       "    <tr>\n",
       "      <th>75%</th>\n",
       "      <td>378.250000</td>\n",
       "      <td>23549.900000</td>\n",
       "      <td>2840.750000</td>\n",
       "      <td>2234.815000</td>\n",
       "    </tr>\n",
       "    <tr>\n",
       "      <th>max</th>\n",
       "      <td>500.000000</td>\n",
       "      <td>583436.720000</td>\n",
       "      <td>110666.930000</td>\n",
       "      <td>7757.060000</td>\n",
       "    </tr>\n",
       "  </tbody>\n",
       "</table>\n",
       "</div>"
      ],
      "text/plain": [
       "            S.No.  Mar Cap - Crore  Sales Qtr - Crore   Unnamed: 4\n",
       "count  488.000000       479.000000         365.000000    94.000000\n",
       "mean   251.508197     28043.857119        4395.976849  1523.870106\n",
       "std    145.884078     59464.615831       11092.206185  1800.008836\n",
       "min      1.000000      3017.070000          47.240000     0.000000\n",
       "25%    122.750000      4843.575000         593.740000   407.167500\n",
       "50%    252.500000      9885.050000        1278.300000   702.325000\n",
       "75%    378.250000     23549.900000        2840.750000  2234.815000\n",
       "max    500.000000    583436.720000      110666.930000  7757.060000"
      ]
     },
     "execution_count": 3,
     "metadata": {},
     "output_type": "execute_result"
    }
   ],
   "source": [
    "df.describe()"
   ]
  },
  {
   "cell_type": "code",
   "execution_count": 4,
   "id": "312f17a6-8bd4-4bfc-ab66-1605e17267c8",
   "metadata": {},
   "outputs": [
    {
     "data": {
      "text/html": [
       "<div>\n",
       "<style scoped>\n",
       "    .dataframe tbody tr th:only-of-type {\n",
       "        vertical-align: middle;\n",
       "    }\n",
       "\n",
       "    .dataframe tbody tr th {\n",
       "        vertical-align: top;\n",
       "    }\n",
       "\n",
       "    .dataframe thead th {\n",
       "        text-align: right;\n",
       "    }\n",
       "</style>\n",
       "<table border=\"1\" class=\"dataframe\">\n",
       "  <thead>\n",
       "    <tr style=\"text-align: right;\">\n",
       "      <th></th>\n",
       "      <th>S.No.</th>\n",
       "      <th>Name</th>\n",
       "      <th>Mar Cap - Crore</th>\n",
       "      <th>Sales Qtr - Crore</th>\n",
       "      <th>Unnamed: 4</th>\n",
       "    </tr>\n",
       "  </thead>\n",
       "  <tbody>\n",
       "    <tr>\n",
       "      <th>338</th>\n",
       "      <td>351</td>\n",
       "      <td>MMTC</td>\n",
       "      <td>5300.00</td>\n",
       "      <td>NaN</td>\n",
       "      <td>NaN</td>\n",
       "    </tr>\n",
       "    <tr>\n",
       "      <th>339</th>\n",
       "      <td>352</td>\n",
       "      <td>IFB Inds.</td>\n",
       "      <td>5293.53</td>\n",
       "      <td>531.74</td>\n",
       "      <td>NaN</td>\n",
       "    </tr>\n",
       "    <tr>\n",
       "      <th>340</th>\n",
       "      <td>353</td>\n",
       "      <td>eClerx Services</td>\n",
       "      <td>5259.14</td>\n",
       "      <td>339.89</td>\n",
       "      <td>NaN</td>\n",
       "    </tr>\n",
       "    <tr>\n",
       "      <th>341</th>\n",
       "      <td>354</td>\n",
       "      <td>Sobha</td>\n",
       "      <td>5224.11</td>\n",
       "      <td>691.90</td>\n",
       "      <td>NaN</td>\n",
       "    </tr>\n",
       "    <tr>\n",
       "      <th>342</th>\n",
       "      <td>355</td>\n",
       "      <td>Kirloskar Oil</td>\n",
       "      <td>5207.77</td>\n",
       "      <td>684.61</td>\n",
       "      <td>NaN</td>\n",
       "    </tr>\n",
       "    <tr>\n",
       "      <th>...</th>\n",
       "      <td>...</td>\n",
       "      <td>...</td>\n",
       "      <td>...</td>\n",
       "      <td>...</td>\n",
       "      <td>...</td>\n",
       "    </tr>\n",
       "    <tr>\n",
       "      <th>483</th>\n",
       "      <td>496</td>\n",
       "      <td>Lak. Vilas Bank</td>\n",
       "      <td>3029.57</td>\n",
       "      <td>790.17</td>\n",
       "      <td>NaN</td>\n",
       "    </tr>\n",
       "    <tr>\n",
       "      <th>484</th>\n",
       "      <td>497</td>\n",
       "      <td>NOCIL</td>\n",
       "      <td>3026.26</td>\n",
       "      <td>249.27</td>\n",
       "      <td>NaN</td>\n",
       "    </tr>\n",
       "    <tr>\n",
       "      <th>485</th>\n",
       "      <td>498</td>\n",
       "      <td>Orient Cement</td>\n",
       "      <td>3024.32</td>\n",
       "      <td>511.53</td>\n",
       "      <td>NaN</td>\n",
       "    </tr>\n",
       "    <tr>\n",
       "      <th>486</th>\n",
       "      <td>499</td>\n",
       "      <td>Natl.Fertilizer</td>\n",
       "      <td>3017.07</td>\n",
       "      <td>2840.75</td>\n",
       "      <td>NaN</td>\n",
       "    </tr>\n",
       "    <tr>\n",
       "      <th>487</th>\n",
       "      <td>500</td>\n",
       "      <td>L T Foods</td>\n",
       "      <td>NaN</td>\n",
       "      <td>NaN</td>\n",
       "      <td>NaN</td>\n",
       "    </tr>\n",
       "  </tbody>\n",
       "</table>\n",
       "<p>150 rows × 5 columns</p>\n",
       "</div>"
      ],
      "text/plain": [
       "     S.No.             Name  Mar Cap - Crore  Sales Qtr - Crore  Unnamed: 4\n",
       "338    351             MMTC          5300.00                NaN         NaN\n",
       "339    352        IFB Inds.          5293.53             531.74         NaN\n",
       "340    353  eClerx Services          5259.14             339.89         NaN\n",
       "341    354            Sobha          5224.11             691.90         NaN\n",
       "342    355    Kirloskar Oil          5207.77             684.61         NaN\n",
       "..     ...              ...              ...                ...         ...\n",
       "483    496  Lak. Vilas Bank          3029.57             790.17         NaN\n",
       "484    497            NOCIL          3026.26             249.27         NaN\n",
       "485    498    Orient Cement          3024.32             511.53         NaN\n",
       "486    499  Natl.Fertilizer          3017.07            2840.75         NaN\n",
       "487    500        L T Foods              NaN                NaN         NaN\n",
       "\n",
       "[150 rows x 5 columns]"
      ]
     },
     "execution_count": 4,
     "metadata": {},
     "output_type": "execute_result"
    }
   ],
   "source": [
    "df.tail(150)"
   ]
  },
  {
   "cell_type": "code",
   "execution_count": 5,
   "id": "5afafcb4-0772-4b6d-af03-e134ddee71a0",
   "metadata": {},
   "outputs": [
    {
     "name": "stdout",
     "output_type": "stream",
     "text": [
      "Values in 'Unnamed: 4':\n",
      "0     NaN\n",
      "1     NaN\n",
      "2     NaN\n",
      "3     NaN\n",
      "4     NaN\n",
      "       ..\n",
      "483   NaN\n",
      "484   NaN\n",
      "485   NaN\n",
      "486   NaN\n",
      "487   NaN\n",
      "Name: Unnamed: 4, Length: 488, dtype: float64\n",
      "Correlation matrix:\n",
      "                   Mar Cap - Crore  Sales Qtr - Crore  Unnamed: 4\n",
      "Mar Cap - Crore           1.000000           0.620702    0.734338\n",
      "Sales Qtr - Crore         0.620702           1.000000         NaN\n",
      "Unnamed: 4                0.734338                NaN    1.000000\n"
     ]
    }
   ],
   "source": [
    "unnamed_column = df.columns[4]\n",
    "unnamed_values = df[unnamed_column]\n",
    "\n",
    "print(f\"Values in '{unnamed_column}':\")\n",
    "print(unnamed_values)\n",
    "\n",
    "# Example of calculating relationships\n",
    "# Correlation matrix\n",
    "correlation_matrix = df[['Mar Cap - Crore', 'Sales Qtr - Crore', unnamed_column]].corr()\n",
    "\n",
    "print(\"Correlation matrix:\")\n",
    "print(correlation_matrix)"
   ]
  },
  {
   "cell_type": "code",
   "execution_count": 6,
   "id": "62364997-104b-4ff1-860f-a963539402ce",
   "metadata": {},
   "outputs": [],
   "source": [
    "# we can see there is a positive correlation between mar cap - crore and unnamed:4"
   ]
  },
  {
   "cell_type": "code",
   "execution_count": 7,
   "id": "e27c140b-21b6-46a9-b2f2-88fde86df025",
   "metadata": {},
   "outputs": [],
   "source": [
    "# Intially we don't have any info about un named 4 so we start with fillings empty spaces."
   ]
  },
  {
   "cell_type": "code",
   "execution_count": 14,
   "id": "8b55b284-d9cb-4d22-b56a-04b665405053",
   "metadata": {},
   "outputs": [],
   "source": [
    "df.rename(columns={'Unnamed: 4': 'Surprise_column', 'Mar Cap - Crore':'Mar_Cap_Crore','Sales Qtr - Crore':'sales_Qtr_Crore'}, inplace=True)"
   ]
  },
  {
   "cell_type": "code",
   "execution_count": 9,
   "id": "5de3f62b-f41b-47d5-a123-b3a548937dbe",
   "metadata": {},
   "outputs": [],
   "source": [
    "# but firstly we have to rename it "
   ]
  },
  {
   "cell_type": "code",
   "execution_count": 10,
   "id": "2d3206d5-cc0d-4233-a770-f9fdaff37a2f",
   "metadata": {},
   "outputs": [
    {
     "data": {
      "text/plain": [
       "1523.8701063829787"
      ]
     },
     "execution_count": 10,
     "metadata": {},
     "output_type": "execute_result"
    }
   ],
   "source": [
    "x = df['Surprise_column'].mean()   #1523.8701063829787\n",
    "x"
   ]
  },
  {
   "cell_type": "code",
   "execution_count": 11,
   "id": "e051d8be-da30-467d-9956-834e47e2fbe1",
   "metadata": {},
   "outputs": [
    {
     "data": {
      "text/plain": [
       "702.325"
      ]
     },
     "execution_count": 11,
     "metadata": {},
     "output_type": "execute_result"
    }
   ],
   "source": [
    "y = df['Surprise_column'].median()   #702.325\n",
    "y"
   ]
  },
  {
   "cell_type": "code",
   "execution_count": 12,
   "id": "d0fa99c8-6082-4b21-8f95-1276f175e736",
   "metadata": {},
   "outputs": [
    {
     "data": {
      "text/html": [
       "<div>\n",
       "<style scoped>\n",
       "    .dataframe tbody tr th:only-of-type {\n",
       "        vertical-align: middle;\n",
       "    }\n",
       "\n",
       "    .dataframe tbody tr th {\n",
       "        vertical-align: top;\n",
       "    }\n",
       "\n",
       "    .dataframe thead th {\n",
       "        text-align: right;\n",
       "    }\n",
       "</style>\n",
       "<table border=\"1\" class=\"dataframe\">\n",
       "  <thead>\n",
       "    <tr style=\"text-align: right;\">\n",
       "      <th></th>\n",
       "      <th>S.No.</th>\n",
       "      <th>Name</th>\n",
       "      <th>Mar_Cap_Crore</th>\n",
       "      <th>sales_Qtr_Crore</th>\n",
       "      <th>Surprise_column</th>\n",
       "    </tr>\n",
       "  </thead>\n",
       "  <tbody>\n",
       "    <tr>\n",
       "      <th>0</th>\n",
       "      <td>1</td>\n",
       "      <td>Reliance Inds.</td>\n",
       "      <td>583436.72</td>\n",
       "      <td>99810.00</td>\n",
       "      <td>1523.870106</td>\n",
       "    </tr>\n",
       "    <tr>\n",
       "      <th>1</th>\n",
       "      <td>2</td>\n",
       "      <td>TCS</td>\n",
       "      <td>563709.84</td>\n",
       "      <td>30904.00</td>\n",
       "      <td>1523.870106</td>\n",
       "    </tr>\n",
       "    <tr>\n",
       "      <th>2</th>\n",
       "      <td>3</td>\n",
       "      <td>HDFC Bank</td>\n",
       "      <td>482953.59</td>\n",
       "      <td>20581.27</td>\n",
       "      <td>1523.870106</td>\n",
       "    </tr>\n",
       "    <tr>\n",
       "      <th>3</th>\n",
       "      <td>4</td>\n",
       "      <td>ITC</td>\n",
       "      <td>320985.27</td>\n",
       "      <td>9772.02</td>\n",
       "      <td>1523.870106</td>\n",
       "    </tr>\n",
       "    <tr>\n",
       "      <th>4</th>\n",
       "      <td>5</td>\n",
       "      <td>H D F C</td>\n",
       "      <td>289497.37</td>\n",
       "      <td>16840.51</td>\n",
       "      <td>1523.870106</td>\n",
       "    </tr>\n",
       "    <tr>\n",
       "      <th>...</th>\n",
       "      <td>...</td>\n",
       "      <td>...</td>\n",
       "      <td>...</td>\n",
       "      <td>...</td>\n",
       "      <td>...</td>\n",
       "    </tr>\n",
       "    <tr>\n",
       "      <th>483</th>\n",
       "      <td>496</td>\n",
       "      <td>Lak. Vilas Bank</td>\n",
       "      <td>3029.57</td>\n",
       "      <td>790.17</td>\n",
       "      <td>1523.870106</td>\n",
       "    </tr>\n",
       "    <tr>\n",
       "      <th>484</th>\n",
       "      <td>497</td>\n",
       "      <td>NOCIL</td>\n",
       "      <td>3026.26</td>\n",
       "      <td>249.27</td>\n",
       "      <td>1523.870106</td>\n",
       "    </tr>\n",
       "    <tr>\n",
       "      <th>485</th>\n",
       "      <td>498</td>\n",
       "      <td>Orient Cement</td>\n",
       "      <td>3024.32</td>\n",
       "      <td>511.53</td>\n",
       "      <td>1523.870106</td>\n",
       "    </tr>\n",
       "    <tr>\n",
       "      <th>486</th>\n",
       "      <td>499</td>\n",
       "      <td>Natl.Fertilizer</td>\n",
       "      <td>3017.07</td>\n",
       "      <td>2840.75</td>\n",
       "      <td>1523.870106</td>\n",
       "    </tr>\n",
       "    <tr>\n",
       "      <th>487</th>\n",
       "      <td>500</td>\n",
       "      <td>L T Foods</td>\n",
       "      <td>NaN</td>\n",
       "      <td>NaN</td>\n",
       "      <td>1523.870106</td>\n",
       "    </tr>\n",
       "  </tbody>\n",
       "</table>\n",
       "<p>488 rows × 5 columns</p>\n",
       "</div>"
      ],
      "text/plain": [
       "     S.No.             Name  Mar_Cap_Crore  sales_Qtr_Crore  Surprise_column\n",
       "0        1   Reliance Inds.      583436.72         99810.00      1523.870106\n",
       "1        2              TCS      563709.84         30904.00      1523.870106\n",
       "2        3        HDFC Bank      482953.59         20581.27      1523.870106\n",
       "3        4              ITC      320985.27          9772.02      1523.870106\n",
       "4        5          H D F C      289497.37         16840.51      1523.870106\n",
       "..     ...              ...            ...              ...              ...\n",
       "483    496  Lak. Vilas Bank        3029.57           790.17      1523.870106\n",
       "484    497            NOCIL        3026.26           249.27      1523.870106\n",
       "485    498    Orient Cement        3024.32           511.53      1523.870106\n",
       "486    499  Natl.Fertilizer        3017.07          2840.75      1523.870106\n",
       "487    500        L T Foods            NaN              NaN      1523.870106\n",
       "\n",
       "[488 rows x 5 columns]"
      ]
     },
     "execution_count": 12,
     "metadata": {},
     "output_type": "execute_result"
    }
   ],
   "source": [
    "df.Surprise_column.fillna(x, inplace = True)\n",
    "df"
   ]
  },
  {
   "cell_type": "code",
   "execution_count": 16,
   "id": "ffa51370-a3d2-4819-a2ee-b217b3ac34fa",
   "metadata": {},
   "outputs": [
    {
     "data": {
      "text/html": [
       "<div>\n",
       "<style scoped>\n",
       "    .dataframe tbody tr th:only-of-type {\n",
       "        vertical-align: middle;\n",
       "    }\n",
       "\n",
       "    .dataframe tbody tr th {\n",
       "        vertical-align: top;\n",
       "    }\n",
       "\n",
       "    .dataframe thead th {\n",
       "        text-align: right;\n",
       "    }\n",
       "</style>\n",
       "<table border=\"1\" class=\"dataframe\">\n",
       "  <thead>\n",
       "    <tr style=\"text-align: right;\">\n",
       "      <th></th>\n",
       "      <th>Mar_Cap_Crore</th>\n",
       "      <th>sales_Qtr_Crore</th>\n",
       "      <th>Surprise_column</th>\n",
       "    </tr>\n",
       "  </thead>\n",
       "  <tbody>\n",
       "    <tr>\n",
       "      <th>Mar_Cap_Crore</th>\n",
       "      <td>1.000000</td>\n",
       "      <td>0.620702</td>\n",
       "      <td>0.08762</td>\n",
       "    </tr>\n",
       "    <tr>\n",
       "      <th>sales_Qtr_Crore</th>\n",
       "      <td>0.620702</td>\n",
       "      <td>1.000000</td>\n",
       "      <td>NaN</td>\n",
       "    </tr>\n",
       "    <tr>\n",
       "      <th>Surprise_column</th>\n",
       "      <td>0.087620</td>\n",
       "      <td>NaN</td>\n",
       "      <td>1.00000</td>\n",
       "    </tr>\n",
       "  </tbody>\n",
       "</table>\n",
       "</div>"
      ],
      "text/plain": [
       "                 Mar_Cap_Crore  sales_Qtr_Crore  Surprise_column\n",
       "Mar_Cap_Crore         1.000000         0.620702          0.08762\n",
       "sales_Qtr_Crore       0.620702         1.000000              NaN\n",
       "Surprise_column       0.087620              NaN          1.00000"
      ]
     },
     "execution_count": 16,
     "metadata": {},
     "output_type": "execute_result"
    }
   ],
   "source": [
    "df[['Mar_Cap_Crore','sales_Qtr_Crore','Surprise_column']].corr()"
   ]
  },
  {
   "cell_type": "code",
   "execution_count": null,
   "id": "60370666-6a7c-497a-bbbf-4a97965342ad",
   "metadata": {},
   "outputs": [],
   "source": [
    "# filling null value of mar cap - crore"
   ]
  },
  {
   "cell_type": "code",
   "execution_count": 17,
   "id": "6fe33d9f-48f0-420f-9077-8f62c9ddfd4d",
   "metadata": {},
   "outputs": [
    {
     "data": {
      "text/plain": [
       "28043.857118997912"
      ]
     },
     "execution_count": 17,
     "metadata": {},
     "output_type": "execute_result"
    }
   ],
   "source": [
    "x = df['Mar_Cap_Crore'].mean() #28043.857118997912\n",
    "x"
   ]
  },
  {
   "cell_type": "code",
   "execution_count": 19,
   "id": "debabc4c-9e13-4408-bffc-efc01d86b8ca",
   "metadata": {},
   "outputs": [],
   "source": [
    "df.Mar_Cap_Crore.fillna(x, inplace = True)"
   ]
  },
  {
   "cell_type": "code",
   "execution_count": 20,
   "id": "17424380-7990-4f69-9e07-e816d99aca38",
   "metadata": {},
   "outputs": [],
   "source": [
    "# now comparing the mean of Mar_Cap_Crore and Surprise_column."
   ]
  },
  {
   "cell_type": "code",
   "execution_count": 21,
   "id": "d71f8124-ad75-4843-8b74-d89e589f729e",
   "metadata": {},
   "outputs": [],
   "source": [
    "# by a random sample of size 50 from both."
   ]
  },
  {
   "cell_type": "code",
   "execution_count": 56,
   "id": "7b9eea0b-cdfb-4231-b406-926086cee855",
   "metadata": {},
   "outputs": [
    {
     "data": {
      "text/plain": [
       "176    14456.90\n",
       "480     3079.06\n",
       "395     4279.07\n",
       "109    26915.86\n",
       "289     7009.13\n",
       "         ...   \n",
       "340     5259.14\n",
       "36     74066.35\n",
       "300     6742.41\n",
       "309     6476.26\n",
       "78     36215.92\n",
       "Name: Mar_Cap_Crore, Length: 100, dtype: float64"
      ]
     },
     "execution_count": 56,
     "metadata": {},
     "output_type": "execute_result"
    }
   ],
   "source": [
    "sample_size = 100\n",
    "sample_1 = df['Mar_Cap_Crore'].sample(n=sample_size, replace=True, random_state=50)\n",
    "sample_1"
   ]
  },
  {
   "cell_type": "code",
   "execution_count": 57,
   "id": "b5c25266-8485-4549-8a66-72b152128d2a",
   "metadata": {},
   "outputs": [
    {
     "data": {
      "text/plain": [
       "count       100.000000\n",
       "mean      33016.933842\n",
       "std       84888.969308\n",
       "min        3079.060000\n",
       "25%        5864.555000\n",
       "50%       12590.615000\n",
       "75%       28100.447839\n",
       "max      583436.720000\n",
       "Name: Mar_Cap_Crore, dtype: float64"
      ]
     },
     "execution_count": 57,
     "metadata": {},
     "output_type": "execute_result"
    }
   ],
   "source": [
    "sample_1.describe()"
   ]
  },
  {
   "cell_type": "code",
   "execution_count": 58,
   "id": "c95f419a-e626-43a8-beee-607453194df2",
   "metadata": {},
   "outputs": [
    {
     "data": {
      "text/plain": [
       "176     562.200000\n",
       "480    1523.870106\n",
       "395     185.650000\n",
       "109    1523.870106\n",
       "289    1523.870106\n",
       "          ...     \n",
       "340    1523.870106\n",
       "36     1523.870106\n",
       "300    1523.870106\n",
       "309    1523.870106\n",
       "78     3325.020000\n",
       "Name: Surprise_column, Length: 100, dtype: float64"
      ]
     },
     "execution_count": 58,
     "metadata": {},
     "output_type": "execute_result"
    }
   ],
   "source": [
    "sample_size = 100\n",
    "sample_2 = df['Surprise_column'].sample(n=sample_size, replace=True, random_state=50)\n",
    "sample_2"
   ]
  },
  {
   "cell_type": "code",
   "execution_count": 59,
   "id": "e2a66567-0411-430d-977f-f773a7145641",
   "metadata": {},
   "outputs": [
    {
     "data": {
      "text/plain": [
       "count     100.000000\n",
       "mean     1541.875478\n",
       "std       766.273588\n",
       "min        19.420000\n",
       "25%      1523.870106\n",
       "50%      1523.870106\n",
       "75%      1523.870106\n",
       "max      6170.710000\n",
       "Name: Surprise_column, dtype: float64"
      ]
     },
     "execution_count": 59,
     "metadata": {},
     "output_type": "execute_result"
    }
   ],
   "source": [
    "sample_2.describe()"
   ]
  },
  {
   "cell_type": "code",
   "execution_count": 60,
   "id": "c4fbcef4-0de1-44f1-a954-95e7a1e12e71",
   "metadata": {},
   "outputs": [
    {
     "data": {
      "text/plain": [
       "176        NaN\n",
       "480    1644.92\n",
       "395        NaN\n",
       "109    1037.88\n",
       "289    1188.97\n",
       "        ...   \n",
       "340     339.89\n",
       "36     4094.82\n",
       "300     361.68\n",
       "309    1574.15\n",
       "78         NaN\n",
       "Name: sales_Qtr_Crore, Length: 100, dtype: float64"
      ]
     },
     "execution_count": 60,
     "metadata": {},
     "output_type": "execute_result"
    }
   ],
   "source": [
    "sample_size = 100\n",
    "sample_3 = df['sales_Qtr_Crore'].sample(n=sample_size, replace=True, random_state=50)\n",
    "sample_3"
   ]
  },
  {
   "cell_type": "code",
   "execution_count": 61,
   "id": "7530da61-e351-4c81-a596-28169e6bfb93",
   "metadata": {},
   "outputs": [
    {
     "data": {
      "text/plain": [
       "<matplotlib.collections.PathCollection at 0x1e89cc88290>"
      ]
     },
     "execution_count": 61,
     "metadata": {},
     "output_type": "execute_result"
    },
    {
     "data": {
      "image/png": "[encoded data removed]",
      "text/plain": [
       "<Figure size 640x480 with 1 Axes>"
      ]
     },
     "metadata": {},
     "output_type": "display_data"
    }
   ],
   "source": [
    "import matplotlib.pyplot as plt\n",
    "x = sample_1  \n",
    "y = sample_2     \n",
    "plt.scatter(x,y)  "
   ]
  },
  {
   "cell_type": "code",
   "execution_count": 62,
   "id": "730ddaed-c8db-4a0d-9c1d-bbd03a919bf8",
   "metadata": {},
   "outputs": [
    {
     "data": {
      "text/plain": [
       "<matplotlib.collections.PathCollection at 0x1e89ccbe1d0>"
      ]
     },
     "execution_count": 62,
     "metadata": {},
     "output_type": "execute_result"
    },
    {
     "data": {
      "image/png": "[encoded data removed]",
      "text/plain": [
       "<Figure size 640x480 with 1 Axes>"
      ]
     },
     "metadata": {},
     "output_type": "display_data"
    }
   ],
   "source": [
    "import matplotlib.pyplot as plt\n",
    "x = sample_1  \n",
    "y = sample_3     \n",
    "plt.scatter(x,y) "
   ]
  }
 ],
 "metadata": {
  "kernelspec": {
   "display_name": "Python 3 (ipykernel)",
   "language": "python",
   "name": "python3"
  },
  "language_info": {
   "codemirror_mode": {
    "name": "ipython",
    "version": 3
   },
   "file_extension": ".py",
   "mimetype": "text/x-python",
   "name": "python",
   "nbconvert_exporter": "python",
   "pygments_lexer": "ipython3",
   "version": "3.11.7"
  }
 },
 "nbformat": 4,
 "nbformat_minor": 5
}
